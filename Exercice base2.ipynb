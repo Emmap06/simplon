{
 "cells": [
  {
   "cell_type": "markdown",
   "id": "2d945135",
   "metadata": {},
   "source": [
    "# Exercice1.1\n",
    "\n",
    "Ecrire une fonction qui retourne la factorielle d'un nombre entier N.\n",
    "\n",
    "On rappelle que: N!= 1*2*...*(N-1)*N\n",
    "\n",
    "Indication : utiliser la boucle \"for\""
   ]
  },
  {
   "cell_type": "code",
   "execution_count": 1,
   "id": "e35057e7",
   "metadata": {},
   "outputs": [
    {
     "name": "stdout",
     "output_type": "stream",
     "text": [
      "Entrz un nombre : 8\n"
     ]
    },
    {
     "data": {
      "text/plain": [
       "40320"
      ]
     },
     "execution_count": 1,
     "metadata": {},
     "output_type": "execute_result"
    }
   ],
   "source": [
    "def factoriel():\n",
    "    N=int(input(\"Entrz un nombre : \"))\n",
    "    P=1\n",
    "    for i in range(1,N+1):\n",
    "        P*=i\n",
    "    return(P)\n",
    "factoriel()"
   ]
  },
  {
   "cell_type": "markdown",
   "id": "e690df0f",
   "metadata": {},
   "source": [
    "# Exercice 1.2\n",
    "\n",
    "Ecrire une fonction qui reçoit un paramètre N et qui nous retourne la liste des nombres impairs compris entre 0 et N.\n",
    "\n",
    "Exemple : pour N = 10 la fonction nous retourne [1, 3, 5, 7, 9]\n",
    "\n",
    "Indication : utiliser la boucle \"while\""
   ]
  },
  {
   "cell_type": "code",
   "execution_count": 2,
   "id": "6ec07f41",
   "metadata": {},
   "outputs": [
    {
     "name": "stdout",
     "output_type": "stream",
     "text": [
      "Entrz un nombre : 30\n"
     ]
    },
    {
     "data": {
      "text/plain": [
       "[1, 3, 5, 7, 9, 11, 13, 15, 17, 19, 21, 23, 25, 27, 29]"
      ]
     },
     "execution_count": 2,
     "metadata": {},
     "output_type": "execute_result"
    }
   ],
   "source": [
    "a = int(input(\"Entrz un nombre : \"))\n",
    "def impair(N):\n",
    "    liste=[]\n",
    "    i=0\n",
    "    while i < N+1:\n",
    "        if i%2==1:\n",
    "            liste.append(i)\n",
    "        i+=1\n",
    "    return(liste)\n",
    "impair(a)"
   ]
  },
  {
   "cell_type": "markdown",
   "id": "91e99e75",
   "metadata": {},
   "source": [
    "# Exercice 1.3\n",
    "\n",
    "Définir la liste : list =[17, 38, 10, 25, 72],puis effectuez les actions suivantes:"
   ]
  },
  {
   "cell_type": "markdown",
   "id": "7243b6f1",
   "metadata": {},
   "source": [
    "1. Triez et affichez la liste"
   ]
  },
  {
   "cell_type": "code",
   "execution_count": 3,
   "id": "d9fe6d99",
   "metadata": {},
   "outputs": [
    {
     "name": "stdout",
     "output_type": "stream",
     "text": [
      "[10, 17, 25, 38, 72]\n"
     ]
    }
   ],
   "source": [
    "list =[17, 38, 10, 25, 72]\n",
    "\n",
    "list.sort()\n",
    "print(list)"
   ]
  },
  {
   "cell_type": "markdown",
   "id": "22bec6ce",
   "metadata": {},
   "source": [
    "2. Ajoutez l'élément 12 à la liste et affichez la liste"
   ]
  },
  {
   "cell_type": "code",
   "execution_count": 4,
   "id": "6094a2af",
   "metadata": {},
   "outputs": [
    {
     "name": "stdout",
     "output_type": "stream",
     "text": [
      "[10, 17, 25, 38, 72, 12]\n"
     ]
    }
   ],
   "source": [
    "list.append(12)\n",
    "print(list)"
   ]
  },
  {
   "cell_type": "markdown",
   "id": "dcaa9c7e",
   "metadata": {},
   "source": [
    "3. Renversez et affichez la liste"
   ]
  },
  {
   "cell_type": "code",
   "execution_count": 5,
   "id": "5a2d9b51",
   "metadata": {},
   "outputs": [
    {
     "name": "stdout",
     "output_type": "stream",
     "text": [
      "[12, 72, 38, 25, 17, 10]\n"
     ]
    }
   ],
   "source": [
    "list.reverse()\n",
    "print(list)"
   ]
  },
  {
   "cell_type": "markdown",
   "id": "d5cb5dd9",
   "metadata": {},
   "source": [
    "4. Affichez le nombre d'éléments de la liste"
   ]
  },
  {
   "cell_type": "code",
   "execution_count": 6,
   "id": "1cbec6cd",
   "metadata": {},
   "outputs": [
    {
     "name": "stdout",
     "output_type": "stream",
     "text": [
      "6\n"
     ]
    }
   ],
   "source": [
    "print(len(list))"
   ]
  },
  {
   "cell_type": "markdown",
   "id": "00c33130",
   "metadata": {},
   "source": [
    "5. Supprimez l'élément 38 et affichez la liste"
   ]
  },
  {
   "cell_type": "code",
   "execution_count": 7,
   "id": "996bbf25",
   "metadata": {},
   "outputs": [
    {
     "name": "stdout",
     "output_type": "stream",
     "text": [
      "[12, 72, 25, 17, 10]\n"
     ]
    }
   ],
   "source": [
    "list.remove(38)\n",
    "print(list)"
   ]
  },
  {
   "cell_type": "markdown",
   "id": "06cbc34b",
   "metadata": {},
   "source": [
    "6. Affichez la sous-liste du 2e au 3e élément"
   ]
  },
  {
   "cell_type": "code",
   "execution_count": 8,
   "id": "bcdcdaea",
   "metadata": {},
   "outputs": [
    {
     "name": "stdout",
     "output_type": "stream",
     "text": [
      "[72, 25]\n"
     ]
    }
   ],
   "source": [
    "print(list[1:3])"
   ]
  },
  {
   "cell_type": "markdown",
   "id": "d4141f85",
   "metadata": {},
   "source": [
    "7. Affichez la sous-liste du début au 2e élément"
   ]
  },
  {
   "cell_type": "code",
   "execution_count": 9,
   "id": "fc91ff7d",
   "metadata": {},
   "outputs": [
    {
     "name": "stdout",
     "output_type": "stream",
     "text": [
      "[12, 72, 25]\n"
     ]
    }
   ],
   "source": [
    "print(list[:3])"
   ]
  },
  {
   "cell_type": "markdown",
   "id": "fca97109",
   "metadata": {},
   "source": [
    "8. Affichez la sous-liste du 3e élément à la fin de la liste"
   ]
  },
  {
   "cell_type": "code",
   "execution_count": 10,
   "id": "a80171c7",
   "metadata": {},
   "outputs": [
    {
     "name": "stdout",
     "output_type": "stream",
     "text": [
      "[25, 17, 10]\n"
     ]
    }
   ],
   "source": [
    "print(list[2:])"
   ]
  },
  {
   "cell_type": "markdown",
   "id": "f8ac68df",
   "metadata": {},
   "source": [
    "# Exercice 1.4\n",
    "\n",
    "Ecrire une fonction qui supprime les doublons d'une liste.\n",
    "\n",
    "Exemple : la fonction reçoit [1, 1, 2, 4, 9, 2, 5, 4] et retourne [1, 2, 4, 9, 5]"
   ]
  },
  {
   "cell_type": "code",
   "execution_count": 11,
   "id": "6036ac12",
   "metadata": {},
   "outputs": [
    {
     "data": {
      "text/plain": [
       "[1, 2, 4, 9, 5]"
      ]
     },
     "execution_count": 11,
     "metadata": {},
     "output_type": "execute_result"
    }
   ],
   "source": [
    "def removeDuplicate(f):\n",
    "    unique = []\n",
    "    for x in f:\n",
    "        if x not in unique:\n",
    "            \n",
    "            unique.append(x)\n",
    "                            \n",
    "    return unique        \n",
    "f=[1, 1, 2, 4, 9, 2, 5, 4]\n",
    "removeDuplicate(f)"
   ]
  },
  {
   "cell_type": "code",
   "execution_count": null,
   "id": "33b12c74",
   "metadata": {},
   "outputs": [],
   "source": []
  }
 ],
 "metadata": {
  "kernelspec": {
   "display_name": "Python 3 (ipykernel)",
   "language": "python",
   "name": "python3"
  },
  "language_info": {
   "codemirror_mode": {
    "name": "ipython",
    "version": 3
   },
   "file_extension": ".py",
   "mimetype": "text/x-python",
   "name": "python",
   "nbconvert_exporter": "python",
   "pygments_lexer": "ipython3",
   "version": "3.9.13"
  }
 },
 "nbformat": 4,
 "nbformat_minor": 5
}
